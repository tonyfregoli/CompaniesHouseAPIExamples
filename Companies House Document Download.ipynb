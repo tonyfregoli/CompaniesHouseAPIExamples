{
 "cells": [
  {
   "cell_type": "markdown",
   "id": "6dee6b15-c708-4af3-9d7f-ddff65a009d1",
   "metadata": {
    "tags": []
   },
   "source": [
    "# Companies House API\n",
    "### Document download example\n",
    "---\n",
    "How to download PDF documents from the Companies House via API.  \n",
    "Example for Tesco's most recent annual report (PDF format)."
   ]
  },
  {
   "cell_type": "code",
   "execution_count": 2,
   "id": "22cbcb51-b796-4c5c-b1b9-0b8804479739",
   "metadata": {
    "tags": []
   },
   "outputs": [],
   "source": [
    "# First of all, include your Companies House REST API KEY for authorisation here.\n",
    "\n",
    "api_key = ''\n"
   ]
  },
  {
   "cell_type": "markdown",
   "id": "703e7d40-9c83-44d1-863d-a7bdb076cec2",
   "metadata": {},
   "source": [
    "Below we download the top (which means the most recent) record in Tesco's filing history for the **Accounts** category.  \n",
    "\n",
    "Please notice that the authorisation method in the request header is `\"Authorization\": api_key` and as such we need to supply the provided key. Another type of  authorisation method is used further down.  \n",
    "\n",
    "Also we make use of `items_per_page` in the _url query string_ to limit the number of records retrieved to just one (by default the most recent). "
   ]
  },
  {
   "cell_type": "code",
   "execution_count": null,
   "id": "89ff26fb-19ca-468c-ab9a-888d8d2c823c",
   "metadata": {
    "tags": []
   },
   "outputs": [],
   "source": [
    "# base modules\n",
    "import sys, requests, pandas as pd\n",
    "\n",
    "# essential variables\n",
    "company_number = '00445790' #TESCO Company number\n",
    "category = 'accounts'\n",
    "items_per_page = 1\n",
    "\n",
    "# url and header variables\n",
    "url = f\"https://api.company-information.service.gov.uk/company/{company_number}/filing-history?items_per_page={items_per_page}&category={category}\"\n",
    "fh_headers = {\"Authorization\": api_key, \"Accept\": \"application/json\"} #notice the auth method, fh stands for filing history\n",
    "\n",
    "# response processing\n",
    "response = requests.get(url, headers = fh_headers)\n",
    "response_json = response.json()\n",
    "response_table = pd.json_normalize(response_json.get(\"items\")) #transforming the json data into a table format (pandas dataframe)\n",
    "\n",
    "# show the response as a table\n",
    "pd.set_option('max_colwidth', None)\n",
    "response_table\n",
    "\n"
   ]
  },
  {
   "cell_type": "markdown",
   "id": "f9434adf-3cda-42cb-83ac-ec995e244af1",
   "metadata": {},
   "source": [
    "Field `links.document_metadata` is what matters the most.  \n",
    "It shows a link to the retrieve the *document object metadata* which in turn includes the __link to the pdf file__.  \n",
    "\n",
    "As documented in the [API reference](https://developer-specs.company-information.service.gov.uk/), the correct way to handle the _document object metadata_ is through another Companies House API product called [Document API](https://developer-specs.company-information.service.gov.uk/document-api/reference).  \n",
    "Until now, we have used the **Companies House Public Data API** which goal is to show public company data, not documents."
   ]
  },
  {
   "cell_type": "code",
   "execution_count": null,
   "id": "f6493922-ca00-41af-82f0-b9081acd66c6",
   "metadata": {},
   "outputs": [],
   "source": [
    "# Let's store the link to the document in a variable\n",
    "document_metadata_link = response_table[\"links.document_metadata\"][0]\n",
    "\n",
    "# show document_link\n",
    "document_metadata_link"
   ]
  },
  {
   "cell_type": "markdown",
   "id": "d5fb7e0f-49f3-48f8-8606-db682cd00d03",
   "metadata": {},
   "source": [
    "Now we will be using the **Document API** to eventually download the document.  \n",
    "\n",
    "<span style=\"color:red\">Please notice that the following `requests.get` calls do not use the _API_KEY_ authentication method. Whilst for the Public Data API many examples on the internet are using the _API_KEY_ method, for the **Document API** call we **must** use the _USER_ authentication method.<span>\n",
    "    \n",
    "<span style=\"color:red\">Normally the _USER_ authentication method wants a _username_ and _password_, but the [authorisation reference](https://developer-specs.company-information.service.gov.uk/guides/authorisation) says to include the api key as  _username_ and leave the _password_ blank. Please see comments for variable `user_authorisation` below. The call's header will also be different, as there is no `authorisation` directive.<span>\n",
    "\n",
    "<span style=\"color:red\">In order to get to the actual document, there is an additional step to follow. We need to extract the pdf download link from the _document object_ and eventually fire the download.<span>\n",
    "    \n",
    "<span style=\"color:red\">Indeed, we are going to make a second call using the download link. Notice that the header for this call is set to accept a PDF document and not a json object like before.<span>\n",
    "    \n",
    "<span style=\"color:red\">The document is saved in a variable, and subsequently stored in a system file.<span>"
   ]
  },
  {
   "cell_type": "code",
   "execution_count": null,
   "id": "1a9266b8-110c-4902-934f-54b65acb874e",
   "metadata": {},
   "outputs": [],
   "source": [
    "# the following is a tuple object with this structure: \n",
    "# (username, password).\n",
    "# Therefore it will be filled in with values api_key for username and \"\" for password.   \n",
    "user_authorisation = (api_key, \"\") \n",
    "\n",
    "# retrieve the document\n",
    "document_object_response= requests.get(document_metadata_link, auth=user_authorisation)\n",
    "\n",
    "# retrieve the download link for the pdf file within document_object_response \n",
    "document_download_link = document_object_response.json()[\"links\"][\"document\"]\n",
    "\n",
    "# let's take a look at the different request header\n",
    "pdf_headers = {\"Accept\": \"application/pdf\"}\n",
    "\n",
    "# store the pdf document into a variable \n",
    "pdf_document = requests.get(document_download_link, auth=user_authorisation, headers = pdf_headers)\n",
    "\n",
    "# when the download is complete, print the following message:\n",
    "print('All done. Tesco document ready to be saved to a system file.')\n"
   ]
  },
  {
   "cell_type": "markdown",
   "id": "b7e08c43-0f32-483c-88b7-4bd09d41fb36",
   "metadata": {},
   "source": [
    "Save the document to \"Tesco.pdf\", same folder of this notebook."
   ]
  },
  {
   "cell_type": "code",
   "execution_count": null,
   "id": "6ce94f85-047e-41b8-a208-cfd46ec48967",
   "metadata": {},
   "outputs": [],
   "source": [
    "with open('tesco.pdf', 'wb') as f:\n",
    "    f.write(pdf_document.content)\n",
    "    \n",
    "f.close() # close and release the file\n",
    "\n",
    "print('tesco.pdf saved to file.')"
   ]
  },
  {
   "cell_type": "code",
   "execution_count": null,
   "id": "386d8df2-27d3-4e4e-9a98-5f4b96986746",
   "metadata": {},
   "outputs": [],
   "source": []
  }
 ],
 "metadata": {
  "kernelspec": {
   "display_name": "Python 3 (ipykernel)",
   "language": "python",
   "name": "python3"
  },
  "language_info": {
   "codemirror_mode": {
    "name": "ipython",
    "version": 3
   },
   "file_extension": ".py",
   "mimetype": "text/x-python",
   "name": "python",
   "nbconvert_exporter": "python",
   "pygments_lexer": "ipython3",
   "version": "3.11.5"
  }
 },
 "nbformat": 4,
 "nbformat_minor": 5
}
